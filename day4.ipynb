{
 "cells": [
  {
   "cell_type": "code",
   "execution_count": 9,
   "metadata": {},
   "outputs": [
    {
     "name": "stdout",
     "output_type": "stream",
     "text": [
      "Kasturi\n",
      "example@gmail.com\n"
     ]
    }
   ],
   "source": [
    "\n",
    "my_dict = {\"name\":\"Kasturi\",\"age\":21,\"city\":\"hubli\"}\n",
    "print(my_dict[\"name\"]) #Accessing values\n",
    "\n",
    "my_dict[\"email\"]=\"example@gmail.com\" #Adding or updating values\n",
    "print(my_dict[\"email\"])  #Accessing email\n",
    "\n"
   ]
  },
  {
   "cell_type": "markdown",
   "metadata": {},
   "source": []
  },
  {
   "cell_type": "code",
   "execution_count": 10,
   "metadata": {},
   "outputs": [
    {
     "name": "stdout",
     "output_type": "stream",
     "text": [
      "{'apple', 2, 3, 'Orange', 'mango'}\n"
     ]
    }
   ],
   "source": [
    "my_set={1,2,3,\"apple\",\"mango\",3}\n",
    "my_set.add(\"Orange\")  #adding elements\n",
    "my_set.remove(1)   #removing values\n",
    "print(my_set)"
   ]
  },
  {
   "cell_type": "markdown",
   "metadata": {},
   "source": []
  }
 ],
 "metadata": {
  "kernelspec": {
   "display_name": "env",
   "language": "python",
   "name": "python3"
  },
  "language_info": {
   "codemirror_mode": {
    "name": "ipython",
    "version": 3
   },
   "file_extension": ".py",
   "mimetype": "text/x-python",
   "name": "python",
   "nbconvert_exporter": "python",
   "pygments_lexer": "ipython3",
   "version": "3.12.3"
  }
 },
 "nbformat": 4,
 "nbformat_minor": 2
}
