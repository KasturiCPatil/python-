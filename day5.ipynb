{
 "cells": [
  {
   "cell_type": "code",
   "execution_count": 4,
   "metadata": {},
   "outputs": [
    {
     "name": "stdout",
     "output_type": "stream",
     "text": [
      "Features of python:\n",
      "\n",
      "Free and Open Source. Python language is freely available at the official website \n",
      "and you can download it from the given download link below click on the Download Python keyword.\n",
      "Easy to code. Python is a high-level programming language. \n",
      "Python is very easy to learn the language as compared to other languages like C, C#, Javascript, Java, etc.\n",
      "Easy to Read. As you will see, learning Python is quite simple. As was already established, Python’s syntax is really straightforward. \n",
      "The code block is defined by the indentations rather than by semicolons or brackets.\n",
      "Object-Oriented Language. One of the key features of Python is Object-Oriented programming. Py\n"
     ]
    }
   ],
   "source": [
    "file = open(\"example.text\",\"r\")\n",
    "content=file.read()  #read the entire content of the file as a single string\n",
    "print(content)\n",
    "file.close()"
   ]
  },
  {
   "cell_type": "code",
   "execution_count": 5,
   "metadata": {},
   "outputs": [
    {
     "name": "stdout",
     "output_type": "stream",
     "text": [
      "Features of python:\n",
      "\n",
      "\n",
      "\n",
      "Free and Open Source. Python language is freely available at the official website \n",
      "\n",
      "and you can download it from the given download link below click on the Download Python keyword.\n",
      "\n",
      "Easy to code. Python is a high-level programming language. \n",
      "\n",
      "Python is very easy to learn the language as compared to other languages like C, C#, Javascript, Java, etc.\n",
      "\n",
      "Easy to Read. As you will see, learning Python is quite simple. As was already established, Python’s syntax is really straightforward. \n",
      "\n",
      "The code block is defined by the indentations rather than by semicolons or brackets.\n",
      "\n",
      "Object-Oriented Language. One of the key features of Python is Object-Oriented programming. Py\n",
      "\n"
     ]
    }
   ],
   "source": [
    "file = open(\"example.text\",\"r\")\n",
    "for line in file:\n",
    "    print(line)\n",
    "content=file.read()  #read the entire content of the file as a single string\n",
    "print(content)\n",
    "file.close()"
   ]
  },
  {
   "cell_type": "markdown",
   "metadata": {},
   "source": [
    "the write and append commands are creates a new txt file."
   ]
  },
  {
   "cell_type": "code",
   "execution_count": 14,
   "metadata": {},
   "outputs": [],
   "source": [
    "file = open(\"ex1.text\",\"w\")\n",
    "file.write(\"Welcome to the python session with Satya!\")\n",
    "file.close()"
   ]
  },
  {
   "cell_type": "code",
   "execution_count": 15,
   "metadata": {},
   "outputs": [],
   "source": [
    "file = open(\"ex1.text\",\"a\")\n",
    "file.write(\"\\nWe are uppending new line in a ex1.text1 file\")\n",
    "file.close()"
   ]
  },
  {
   "cell_type": "code",
   "execution_count": 4,
   "metadata": {},
   "outputs": [
    {
     "name": "stdout",
     "output_type": "stream",
     "text": [
      "The sum of the number is : 247\n"
     ]
    }
   ],
   "source": [
    "# reads data from the file and process it\n",
    "file=open(\"data.txt\",\"r\")\n",
    "total=0\n",
    "\n",
    "#data.txt contains the list of num as per line\n",
    "for line in file:\n",
    "    total += int(line.strip()) #Converts each line as integer and adds to total\n",
    "    \n",
    "#prints the sum while closing the file to save memory\n",
    "file.close()\n",
    "print(\"The sum of the number is :\",total)"
   ]
  }
 ],
 "metadata": {
  "kernelspec": {
   "display_name": "Python 3",
   "language": "python",
   "name": "python3"
  },
  "language_info": {
   "codemirror_mode": {
    "name": "ipython",
    "version": 3
   },
   "file_extension": ".py",
   "mimetype": "text/x-python",
   "name": "python",
   "nbconvert_exporter": "python",
   "pygments_lexer": "ipython3",
   "version": "3.12.1"
  }
 },
 "nbformat": 4,
 "nbformat_minor": 2
}
