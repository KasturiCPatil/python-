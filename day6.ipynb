{
 "cells": [
  {
   "cell_type": "code",
   "execution_count": 6,
   "metadata": {},
   "outputs": [
    {
     "name": "stdout",
     "output_type": "stream",
     "text": [
      "2300\n"
     ]
    }
   ],
   "source": [
    "class BankAccount:\n",
    "    def __init__(self,balance):\n",
    "        self._balance=balance  #private variable\n",
    "\n",
    "    def deposit(self,amount):\n",
    "        self._balance+= amount\n",
    "    def get_balance(self):\n",
    "        return self._balance\n",
    "    \n",
    "#create an object\n",
    "\n",
    "account=BankAccount(2000)\n",
    "account.deposit(300)\n",
    "print(account.get_balance())"
   ]
  },
  {
   "cell_type": "code",
   "execution_count": 5,
   "metadata": {},
   "outputs": [
    {
     "name": "stdout",
     "output_type": "stream",
     "text": [
      "The White Ford Fiesta is starting\n"
     ]
    }
   ],
   "source": [
    "class Car:\n",
    "    # Define the __init__ method to accept arguments\n",
    "    def __init__(self, color, model):\n",
    "        self.color = color  # Initialize the 'color' attribute\n",
    "        self.model = model  # Initialize the 'model' attribute\n",
    "\n",
    "    def start(self):\n",
    "        print(f\"The {self.color} {self.model} is starting\")\n",
    "\n",
    "# Creating an object of the Car class with arguments\n",
    "my_car = Car(\"White\", \"Ford Fiesta\")\n",
    "my_car.start()\n"
   ]
  },
  {
   "cell_type": "code",
   "execution_count": 10,
   "metadata": {},
   "outputs": [
    {
     "name": "stdout",
     "output_type": "stream",
     "text": [
      "Dog is barking\n"
     ]
    }
   ],
   "source": [
    "class Animal:\n",
    "    def speak(self):\n",
    "        print(\"Animal is making sound\")\n",
    "\n",
    "class Dog(Animal):\n",
    "    def speak(self):\n",
    "        print(\"Dog is barking\")\n",
    "\n",
    "my_dog = Dog()\n",
    "my_dog.speak()\n"
   ]
  },
  {
   "cell_type": "code",
   "execution_count": 11,
   "metadata": {},
   "outputs": [
    {
     "name": "stdout",
     "output_type": "stream",
     "text": [
      "Bird is flying\n",
      "Airplane is flying\n"
     ]
    }
   ],
   "source": [
    "#polymorphism\n",
    "class Bird:\n",
    "    def fly(self):\n",
    "        print(\"Bird is flying\")\n",
    "\n",
    "class Airplane:\n",
    "    def fly(self):\n",
    "        print(\"Airplane is flying\")\n",
    "\n",
    "def make_it_fly(flying_object):\n",
    "    flying_object.fly()\n",
    "\n",
    "sparrow = Bird()\n",
    "boeing = Airplane()\n",
    "\n",
    "make_it_fly(sparrow)\n",
    "make_it_fly(boeing)"
   ]
  }
 ],
 "metadata": {
  "kernelspec": {
   "display_name": "Python 3",
   "language": "python",
   "name": "python3"
  },
  "language_info": {
   "codemirror_mode": {
    "name": "ipython",
    "version": 3
   },
   "file_extension": ".py",
   "mimetype": "text/x-python",
   "name": "python",
   "nbconvert_exporter": "python",
   "pygments_lexer": "ipython3",
   "version": "3.12.1"
  }
 },
 "nbformat": 4,
 "nbformat_minor": 2
}
